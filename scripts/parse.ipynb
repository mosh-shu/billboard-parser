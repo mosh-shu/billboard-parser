{
 "metadata": {
  "language_info": {
   "codemirror_mode": {
    "name": "ipython",
    "version": 3
   },
   "file_extension": ".py",
   "mimetype": "text/x-python",
   "name": "python",
   "nbconvert_exporter": "python",
   "pygments_lexer": "ipython3",
   "version": "3.8.8"
  },
  "orig_nbformat": 2,
  "kernelspec": {
   "name": "python388jvsc74a57bd0f824cfdc8576e0c71a79036f5a9dca3e4794fd69fea77a77382ff3f6ba87877b",
   "display_name": "Python 3.8.8 64-bit ('billboard': conda)"
  },
  "metadata": {
   "interpreter": {
    "hash": "f824cfdc8576e0c71a79036f5a9dca3e4794fd69fea77a77382ff3f6ba87877b"
   }
  }
 },
 "nbformat": 4,
 "nbformat_minor": 2,
 "cells": [
  {
   "cell_type": "code",
   "execution_count": 1,
   "metadata": {},
   "outputs": [],
   "source": [
    "import numpy as np\n",
    "import pandas as pd\n",
    "import glob\n",
    "import re"
   ]
  },
  {
   "cell_type": "code",
   "execution_count": 2,
   "metadata": {},
   "outputs": [],
   "source": [
    "datadir = \"../data/McGill-Billboard/\"\n",
    "# filepaths = glob.glob(datadir+'[0-9][0-9][0-9][0-9]/salami_chords.txt')\n",
    "filepaths = glob.glob(datadir+'1256/salami_chords.txt')"
   ]
  },
  {
   "cell_type": "code",
   "execution_count": 75,
   "metadata": {},
   "outputs": [],
   "source": [
    "fileidx = 0\n",
    "filepath = filepaths[fileidx]\n",
    "\n",
    "def ExtractFile(filepath):\n",
    "    f = open(filepath, 'r')\n",
    "    raw = f.readlines()\n",
    "    f.close\n",
    "    return raw\n",
    "\n",
    "def ExtractMeta(raw):\n",
    "    title = re.split('# title: |\\n', raw[0])[1]\n",
    "    artist = re.split('# artist: |\\n', raw[1])[1]\n",
    "    metre = re.split('# metre: |\\n', raw[2])[1]\n",
    "    tonic = re.split('# tonic: |\\n', raw[3])[1]\n",
    "\n",
    "    return (title, artist, metre, tonic)\n",
    "\n",
    "raw = ExtractFile(filepath)\n",
    "(title, artist, metre, tonic) = ExtractMeta(raw)"
   ]
  },
  {
   "cell_type": "code",
   "execution_count": 76,
   "metadata": {},
   "outputs": [],
   "source": [
    "def ExtractPhrases(raw):\n",
    "    raw = raw[6:-2]\n",
    "    phrases = list()\n",
    "    for row in raw:\n",
    "        splitted = re.split('\\t', row)[1:][0]\n",
    "        splitted = re.split('\\|', splitted)[1:]\n",
    "        \n",
    "        if not splitted: continue\n",
    "        \n",
    "        phrase = splitted[:-1]\n",
    "\n",
    "        # check for repeat\n",
    "        if IsRepeat(splitted[-1][1:3]):\n",
    "            phrase.append(splitted[-1][1:3])\n",
    "\n",
    "        phrases.append(phrase)\n",
    "    return phrases\n",
    "\n",
    "def CleanPhrases(phrases):\n",
    "    phrases_clean = list()\n",
    "    for phrase in phrases:\n",
    "        phrase_clean = [chord.strip() for chord in phrase]\n",
    "        phrases_clean.append(phrase_clean)\n",
    "    return phrases_clean\n",
    "    \n",
    "def FormatChords(phrases_clean):\n",
    "    chords = list()\n",
    "    \n",
    "    for phrase in phrases_clean:\n",
    "        # clean non-chords\n",
    "        phrase_chord = [RemoveNoise(chord) for chord in phrase]\n",
    "        \n",
    "        # remove blank (noise-only) lines\n",
    "        if all([not p for p in phrase_chord]): continue\n",
    "\n",
    "        # check for repeat\n",
    "        if IsRepeat(phrase_chord[-1]):\n",
    "            repeated = phrase_chord[:-1]\n",
    "            n_repeat = int(phrase_chord[-1][-1])\n",
    "            phrase_chord = repeated*n_repeat\n",
    "\n",
    "        chords.append(phrase_chord)\n",
    "    # flatten 2d list\n",
    "    chords = sum(chords, [])\n",
    "\n",
    "    # split chords into bars\n",
    "    chords = [chord.split() for chord in chords]\n",
    "\n",
    "    return chords\n",
    "\n",
    "def IsRepeat(str):\n",
    "    if re.match(r'x\\d', str):\n",
    "        return True\n",
    "    else:\n",
    "        return False\n",
    "\n",
    "def RemoveNoise(chord):\n",
    "    chord_clean = re.sub(r'\\.|\\*|\\(\\d+/\\d+\\)|N', '', chord)\n",
    "    chord_clean = chord_clean.split()\n",
    "    chord_clean = ' '.join(chord_clean)\n",
    "    return chord_clean\n",
    "\n",
    "phrases = ExtractPhrases(raw)\n",
    "phrases_clean = CleanPhrases(phrases)\n",
    "chords = FormatChords(phrases_clean)"
   ]
  },
  {
   "cell_type": "code",
   "execution_count": 77,
   "metadata": {},
   "outputs": [],
   "source": [
    "def CreateIndex(chords):\n",
    "    indexs_bar = list()\n",
    "    for i, bar in enumerate(chords):\n",
    "        index_bar = [i]*len(bar)\n",
    "        indexs_bar.append(index_bar)\n",
    "    return indexs_bar\n",
    "chords_index = CreateIndex(chords)"
   ]
  },
  {
   "cell_type": "code",
   "execution_count": 78,
   "metadata": {},
   "outputs": [],
   "source": [
    "def Raw2Basic(chord_raw):\n",
    "    root = chord_raw.split(':')[0]\n",
    "    func = chord_raw.split(':')[1].split('/')[0]\n",
    "    \n",
    "    if func[:3]=='maj':\n",
    "        func = 'maj'\n",
    "    elif func[:3]=='min':\n",
    "        func = 'min'\n",
    "    elif func[:3]=='sus':\n",
    "        func = func[:4]\n",
    "    elif func[0]=='1' or func[0]=='5':\n",
    "        func = '15'\n",
    "    \n",
    "    chord_basic = root+':'+func\n",
    "    return chord_basic\n",
    "\n",
    "def Raw2Root(chord_raw):\n",
    "    root = chord_raw.split(':')[0]\n",
    "    return root"
   ]
  },
  {
   "cell_type": "code",
   "execution_count": 80,
   "metadata": {},
   "outputs": [
    {
     "output_type": "execute_result",
     "data": {
      "text/plain": [
       "'II:maj7'"
      ]
     },
     "metadata": {},
     "execution_count": 80
    }
   ],
   "source": [
    "def GetEnharmonic(note):\n",
    "    if note == 'Db':\n",
    "        return 'C#'\n",
    "    elif note == 'Eb':\n",
    "        return 'D#'\n",
    "    elif note == 'E#':\n",
    "        return 'F'\n",
    "    elif note == 'Fb':\n",
    "        return 'E'\n",
    "    elif note == 'Gb':\n",
    "        return 'F#'\n",
    "    elif note == 'Ab':\n",
    "        return 'G#'\n",
    "    elif note == 'Bb':\n",
    "        return 'A#'\n",
    "    elif note == 'B#':\n",
    "        return 'C'\n",
    "    elif note == 'Cb':\n",
    "        return 'B'\n",
    "    return note\n",
    "\n",
    "def Abs2RelRoot(chord_root, tonic):\n",
    "    chromatic = ['C', 'C#', 'D', 'D#', 'E', 'F', 'F#', 'G', 'G#', 'A', 'A#', 'B']\n",
    "    relative = ['I', 'I#', 'II', 'II#', 'III', 'IV', 'IV#', 'V', 'V#', 'VI', 'VI#', 'VII']\n",
    "\n",
    "    tonic = GetEnharmonic(tonic)\n",
    "    chord_root = GetEnharmonic(chord_root)\n",
    "\n",
    "    tonic_pos = chromatic.index(tonic)\n",
    "    chord_root_pos = chromatic.index(chord_root)\n",
    "\n",
    "    dist = chord_root_pos - tonic_pos\n",
    "    rel_chord_root = relative[dist]\n",
    "\n",
    "    return rel_chord_root\n",
    "\n",
    "def Abs2Rel(chord, tonic):\n",
    "    splitted = chord.split(':')\n",
    "    root = splitted[0]\n",
    "    func = ''\n",
    "    if len(splitted) > 1:\n",
    "        func = ':' + splitted[1]\n",
    "    rel_root = Abs2RelRoot(root, tonic)\n",
    "    rel_chord = rel_root + func\n",
    "\n",
    "    return rel_chord\n",
    "\n",
    "Abs2Rel('Bb:maj7', 'Ab')"
   ]
  },
  {
   "cell_type": "code",
   "execution_count": 91,
   "metadata": {},
   "outputs": [],
   "source": [
    "def Rel2InCRoot(root_rel, tonic='C'):\n",
    "    chromatic = ['C', 'C#', 'D', 'D#', 'E', 'F', 'F#', 'G', 'G#', 'A', 'A#', 'B']\n",
    "    relative = ['I', 'I#', 'II', 'II#', 'III', 'IV', 'IV#', 'V', 'V#', 'VI', 'VI#', 'VII']\n",
    "\n",
    "    chromatic = chromatic[chromatic.index(tonic):] + chromatic[:chromatic.index(tonic)]\n",
    "    root_inc = chromatic[relative.index(root_rel)]\n",
    "\n",
    "    return root_inc\n",
    "\n",
    "def Rel2InC(chord_rel, tonic='C'):\n",
    "    splitted = chord_rel.split(':')\n",
    "    root = splitted[0]\n",
    "    func = ''\n",
    "    if len(splitted) > 1:\n",
    "        func = ':' + splitted[1]\n",
    "    rel_root = Rel2InCRoot(root, tonic)\n",
    "    rel_chord = rel_root + func\n",
    "\n",
    "    return rel_chord"
   ]
  },
  {
   "cell_type": "code",
   "execution_count": 103,
   "metadata": {},
   "outputs": [],
   "source": [
    "df_chords = pd.DataFrame()\n",
    "df_chords['bar'] = sum(chords_index, [])\n",
    "df_chords['chords'] = sum(chords, [])\n",
    "df_chords['chords_basic'] = df_chords['chords'].apply(Raw2Basic)\n",
    "df_chords['chords_root'] = df_chords['chords'].apply(Raw2Root)\n",
    "\n",
    "df_chords['chords_rel'] = df_chords['chords'].apply(Abs2Rel, tonic=tonic)\n",
    "df_chords['chords_basic_rel'] = df_chords['chords_basic'].apply(Abs2Rel, tonic=tonic)\n",
    "df_chords['chords_root_rel'] = df_chords['chords_root'].apply(Abs2Rel, tonic=tonic)\n",
    "\n",
    "df_chords['chords_inC'] = df_chords['chords_rel'].apply(Rel2InC)\n",
    "df_chords['chords_basic_inC'] = df_chords['chords_basic_rel'].apply(Rel2InC)\n",
    "df_chords['chords_root_inC'] = df_chords['chords_root_rel'].apply(Rel2InC)\n",
    "\n",
    "df_chords['meta'] = ['title: '+title, 'artist: '+artist, 'metre: '+metre, 'tonic: '+tonic] + [np.nan] * (len(df_chords)-4)"
   ]
  },
  {
   "cell_type": "code",
   "execution_count": 104,
   "metadata": {},
   "outputs": [
    {
     "output_type": "execute_result",
     "data": {
      "text/plain": [
       "     bar      chords chords_basic chords_root  chords_rel chords_basic_rel  \\\n",
       "0      0         C:1         C:15           C         I:1             I:15   \n",
       "1      1         C:1         C:15           C         I:1             I:15   \n",
       "2      2         C:1         C:15           C         I:1             I:15   \n",
       "3      3         C:1         C:15           C         I:1             I:15   \n",
       "4      4      C:min7        C:min           C      I:min7            I:min   \n",
       "..   ...         ...          ...         ...         ...              ...   \n",
       "302  202  G:sus4(b7)       G:sus4           G  V:sus4(b7)           V:sus4   \n",
       "303  203  G:sus4(b7)       G:sus4           G  V:sus4(b7)           V:sus4   \n",
       "304  204  G:sus4(b7)       G:sus4           G  V:sus4(b7)           V:sus4   \n",
       "305  205    Bb:maj/9       Bb:maj          Bb   VI#:maj/9          VI#:maj   \n",
       "306  205       C:maj        C:maj           C       I:maj            I:maj   \n",
       "\n",
       "    chords_root_rel  chords_inC chords_basic_inC chords_root_inC  \n",
       "0                 I         C:1             C:15               C  \n",
       "1                 I         C:1             C:15               C  \n",
       "2                 I         C:1             C:15               C  \n",
       "3                 I         C:1             C:15               C  \n",
       "4                 I      C:min7            C:min               C  \n",
       "..              ...         ...              ...             ...  \n",
       "302               V  G:sus4(b7)           G:sus4               G  \n",
       "303               V  G:sus4(b7)           G:sus4               G  \n",
       "304               V  G:sus4(b7)           G:sus4               G  \n",
       "305             VI#    A#:maj/9           A#:maj              A#  \n",
       "306               I       C:maj            C:maj               C  \n",
       "\n",
       "[307 rows x 10 columns]"
      ],
      "text/html": "<div>\n<style scoped>\n    .dataframe tbody tr th:only-of-type {\n        vertical-align: middle;\n    }\n\n    .dataframe tbody tr th {\n        vertical-align: top;\n    }\n\n    .dataframe thead th {\n        text-align: right;\n    }\n</style>\n<table border=\"1\" class=\"dataframe\">\n  <thead>\n    <tr style=\"text-align: right;\">\n      <th></th>\n      <th>bar</th>\n      <th>chords</th>\n      <th>chords_basic</th>\n      <th>chords_root</th>\n      <th>chords_rel</th>\n      <th>chords_basic_rel</th>\n      <th>chords_root_rel</th>\n      <th>chords_inC</th>\n      <th>chords_basic_inC</th>\n      <th>chords_root_inC</th>\n    </tr>\n  </thead>\n  <tbody>\n    <tr>\n      <th>0</th>\n      <td>0</td>\n      <td>C:1</td>\n      <td>C:15</td>\n      <td>C</td>\n      <td>I:1</td>\n      <td>I:15</td>\n      <td>I</td>\n      <td>C:1</td>\n      <td>C:15</td>\n      <td>C</td>\n    </tr>\n    <tr>\n      <th>1</th>\n      <td>1</td>\n      <td>C:1</td>\n      <td>C:15</td>\n      <td>C</td>\n      <td>I:1</td>\n      <td>I:15</td>\n      <td>I</td>\n      <td>C:1</td>\n      <td>C:15</td>\n      <td>C</td>\n    </tr>\n    <tr>\n      <th>2</th>\n      <td>2</td>\n      <td>C:1</td>\n      <td>C:15</td>\n      <td>C</td>\n      <td>I:1</td>\n      <td>I:15</td>\n      <td>I</td>\n      <td>C:1</td>\n      <td>C:15</td>\n      <td>C</td>\n    </tr>\n    <tr>\n      <th>3</th>\n      <td>3</td>\n      <td>C:1</td>\n      <td>C:15</td>\n      <td>C</td>\n      <td>I:1</td>\n      <td>I:15</td>\n      <td>I</td>\n      <td>C:1</td>\n      <td>C:15</td>\n      <td>C</td>\n    </tr>\n    <tr>\n      <th>4</th>\n      <td>4</td>\n      <td>C:min7</td>\n      <td>C:min</td>\n      <td>C</td>\n      <td>I:min7</td>\n      <td>I:min</td>\n      <td>I</td>\n      <td>C:min7</td>\n      <td>C:min</td>\n      <td>C</td>\n    </tr>\n    <tr>\n      <th>...</th>\n      <td>...</td>\n      <td>...</td>\n      <td>...</td>\n      <td>...</td>\n      <td>...</td>\n      <td>...</td>\n      <td>...</td>\n      <td>...</td>\n      <td>...</td>\n      <td>...</td>\n    </tr>\n    <tr>\n      <th>302</th>\n      <td>202</td>\n      <td>G:sus4(b7)</td>\n      <td>G:sus4</td>\n      <td>G</td>\n      <td>V:sus4(b7)</td>\n      <td>V:sus4</td>\n      <td>V</td>\n      <td>G:sus4(b7)</td>\n      <td>G:sus4</td>\n      <td>G</td>\n    </tr>\n    <tr>\n      <th>303</th>\n      <td>203</td>\n      <td>G:sus4(b7)</td>\n      <td>G:sus4</td>\n      <td>G</td>\n      <td>V:sus4(b7)</td>\n      <td>V:sus4</td>\n      <td>V</td>\n      <td>G:sus4(b7)</td>\n      <td>G:sus4</td>\n      <td>G</td>\n    </tr>\n    <tr>\n      <th>304</th>\n      <td>204</td>\n      <td>G:sus4(b7)</td>\n      <td>G:sus4</td>\n      <td>G</td>\n      <td>V:sus4(b7)</td>\n      <td>V:sus4</td>\n      <td>V</td>\n      <td>G:sus4(b7)</td>\n      <td>G:sus4</td>\n      <td>G</td>\n    </tr>\n    <tr>\n      <th>305</th>\n      <td>205</td>\n      <td>Bb:maj/9</td>\n      <td>Bb:maj</td>\n      <td>Bb</td>\n      <td>VI#:maj/9</td>\n      <td>VI#:maj</td>\n      <td>VI#</td>\n      <td>A#:maj/9</td>\n      <td>A#:maj</td>\n      <td>A#</td>\n    </tr>\n    <tr>\n      <th>306</th>\n      <td>205</td>\n      <td>C:maj</td>\n      <td>C:maj</td>\n      <td>C</td>\n      <td>I:maj</td>\n      <td>I:maj</td>\n      <td>I</td>\n      <td>C:maj</td>\n      <td>C:maj</td>\n      <td>C</td>\n    </tr>\n  </tbody>\n</table>\n<p>307 rows × 10 columns</p>\n</div>"
     },
     "metadata": {},
     "execution_count": 104
    }
   ],
   "source": [
    "df_chords"
   ]
  },
  {
   "cell_type": "code",
   "execution_count": null,
   "metadata": {},
   "outputs": [],
   "source": []
  }
 ]
}