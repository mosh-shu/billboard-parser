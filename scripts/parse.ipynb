{
 "metadata": {
  "language_info": {
   "codemirror_mode": {
    "name": "ipython",
    "version": 3
   },
   "file_extension": ".py",
   "mimetype": "text/x-python",
   "name": "python",
   "nbconvert_exporter": "python",
   "pygments_lexer": "ipython3",
   "version": "3.8.8"
  },
  "orig_nbformat": 2,
  "kernelspec": {
   "name": "python388jvsc74a57bd0f824cfdc8576e0c71a79036f5a9dca3e4794fd69fea77a77382ff3f6ba87877b",
   "display_name": "Python 3.8.8 64-bit ('billboard': conda)"
  },
  "metadata": {
   "interpreter": {
    "hash": "f824cfdc8576e0c71a79036f5a9dca3e4794fd69fea77a77382ff3f6ba87877b"
   }
  }
 },
 "nbformat": 4,
 "nbformat_minor": 2,
 "cells": [
  {
   "cell_type": "code",
   "execution_count": 1,
   "metadata": {},
   "outputs": [],
   "source": [
    "import numpy as np\n",
    "import pandas as pd\n",
    "import glob\n",
    "import re"
   ]
  },
  {
   "cell_type": "code",
   "execution_count": 11,
   "metadata": {},
   "outputs": [],
   "source": [
    "datadir = \"../data/McGill-Billboard/\"\n",
    "# filepaths = glob.glob(datadir+'[0-9][0-9][0-9][0-9]/salami_chords.txt')\n",
    "filepaths = glob.glob(datadir+'0688/salami_chords.txt')"
   ]
  },
  {
   "cell_type": "code",
   "execution_count": 12,
   "metadata": {},
   "outputs": [],
   "source": [
    "fileidx = 0\n",
    "filepath = filepaths[fileidx]\n",
    "\n",
    "def ExtractFile(filepath):\n",
    "    f = open(filepath, 'r')\n",
    "    raw = f.readlines()\n",
    "    f.close\n",
    "    return raw\n",
    "\n",
    "def ExtractMeta(raw):\n",
    "    meta = ''.join(raw[:5])\n",
    "    title = [x for x in re.split('# title: |\\n', meta) if x and not x[0]=='#'][0]\n",
    "    artist = [x for x in re.split('# artist: |\\n', meta) if x and not x[0]=='#'][0]\n",
    "    metre = [x for x in re.split('# metre: |\\n', meta) if x and not x[0]=='#'][0]\n",
    "    tonic = [x for x in re.split('# tonic: |\\n', meta) if x and not x[0]=='#'][0]\n",
    "\n",
    "    return (title, artist, metre, tonic)\n",
    "\n",
    "raw = ExtractFile(filepath)\n",
    "(title, artist, metre, tonic) = ExtractMeta(raw)"
   ]
  },
  {
   "cell_type": "code",
   "execution_count": 13,
   "metadata": {},
   "outputs": [
    {
     "output_type": "stream",
     "name": "stdout",
     "text": [
      "('On The Road Again', 'Canned Heat', '4/4', 'E')\n"
     ]
    }
   ],
   "source": [
    "print((title, artist, metre, tonic))"
   ]
  },
  {
   "cell_type": "code",
   "execution_count": 48,
   "metadata": {},
   "outputs": [
    {
     "output_type": "stream",
     "name": "stdout",
     "text": [
      "this is ['E:1']\nthis is ['E:maj(11)']\nthis is ['E:7(#9)', 'E:7(#9)', 'E:7(#9) E:7(#9) G:1 A:1', 'E:7(#9)', 'x3']\nthis is ['E:7(#9)', 'E:7(#9)', 'E:maj(#9) E:maj(#9) G:maj A:maj', 'E:7(#9)', 'x3']\nthis is ['E:7(#9)', 'E:7(#9)', 'E:maj(#9) E:maj(#9) G:maj A:maj', 'E:7(#9)', 'x3']\nthis is ['E:7(#9)', 'E:7(#9)', 'E:maj(#9) E:maj(#9) G:maj A:maj', 'E:7(#9)', 'x3']\nthis is ['E:7(#9)', 'E:7(#9)', 'E:maj(#9) E:maj(#9) G:maj A:maj', 'E:7(#9)', 'x3']\nthis is ['E:7(#9)', 'E:7(#9)', 'E:maj(#9) E:maj(#9) G:maj A:maj', 'E:7(#9)', 'x3']\nthis is ['E:7(#9)', 'E:7(#9)', 'E:maj(#9) E:maj(#9) G:maj A:maj', 'E:7(#9)', 'x3']\nthis is ['E:7(#9)', 'E:7(#9)', 'E:maj(#9) E:maj(#9) G:maj A:maj', 'E:7(#9)', 'x1']\nthis is ['E:1']\nthis is ['E:maj(11)']\n"
     ]
    }
   ],
   "source": [
    "def ExtractPhrases(raw):\n",
    "    raw = raw[6:-2]\n",
    "    phrases = list()\n",
    "    for row in raw:\n",
    "        splitted = re.split('\\t', row)[1:]\n",
    "        if not splitted: continue\n",
    "        splitted = splitted[0]\n",
    "        \n",
    "        splitted = re.split('\\|', splitted)[1:]        \n",
    "        if not splitted: continue\n",
    "        \n",
    "        phrase = splitted[:-1]\n",
    "\n",
    "        # check for repeat\n",
    "        if IsRepeat(splitted[-1][1:3]):\n",
    "            phrase.append(splitted[-1][1:3])\n",
    "\n",
    "        phrases.append(phrase)\n",
    "    return phrases\n",
    "\n",
    "def CleanPhrases(phrases):\n",
    "    phrases_clean = list()\n",
    "    for phrase in phrases:\n",
    "        phrase_clean = [chord.strip() for chord in phrase]\n",
    "        phrases_clean.append(phrase_clean)\n",
    "    return phrases_clean\n",
    "    \n",
    "def FormatChords(phrases_clean):\n",
    "    chords = list()\n",
    "    \n",
    "    for phrase in phrases_clean:\n",
    "        # clean non-chords\n",
    "        phrase_chord = [RemoveNoise(chord) for chord in phrase]\n",
    "\n",
    "        # retrieve dot from previous chord\n",
    "        phrase_chord = RetrieveDots(phrase_chord)\n",
    "\n",
    "        # remove blank (noise-only) lines\n",
    "        if all([not p for p in phrase_chord]): continue\n",
    "\n",
    "        # check for repeat\n",
    "        if IsRepeat(phrase_chord[-1]):\n",
    "            repeated = phrase_chord[:-1]\n",
    "            n_repeat = int(phrase_chord[-1][-1])\n",
    "            phrase_chord = repeated*n_repeat\n",
    "\n",
    "        chords.append(phrase_chord)\n",
    "    # flatten 2d list\n",
    "    chords = sum(chords, [])\n",
    "\n",
    "    # split chords into bars\n",
    "    chords = [chord.split() for chord in chords]\n",
    "\n",
    "    return chords\n",
    "\n",
    "def IsRepeat(str):\n",
    "    if re.match(r'x\\d', str):\n",
    "        return True\n",
    "    else:\n",
    "        return False\n",
    "\n",
    "def RemoveNoise(chord):\n",
    "    chord_clean = re.sub(r'|\\*|\\(\\d+/\\d+\\)|N|&pause', '', chord)\n",
    "    chord_clean = chord_clean.split()\n",
    "    chord_clean = ' '.join(chord_clean)\n",
    "    return chord_clean\n",
    "\n",
    "def RetrieveDots(phrase_chord):\n",
    "    retrieved_phrase = list()\n",
    "    for bar in phrase_chord:\n",
    "        retrieved_bar = list()\n",
    "        chords = bar.split()\n",
    "        for c_i, chord in enumerate(chords):\n",
    "            if chord=='.':\n",
    "                retrieved_bar.append(chords[c_i-1])\n",
    "            else:\n",
    "                retrieved_bar.append(chord)\n",
    "        retrieved_phrase.append(' '.join(retrieved_bar))\n",
    "\n",
    "    return retrieved_phrase\n",
    "\n",
    "\n",
    "phrases = ExtractPhrases(raw)\n",
    "phrases_clean = CleanPhrases(phrases)\n",
    "chords = FormatChords(phrases_clean)"
   ]
  },
  {
   "cell_type": "code",
   "execution_count": 39,
   "metadata": {},
   "outputs": [
    {
     "output_type": "execute_result",
     "data": {
      "text/plain": [
       "[[0],\n",
       " [1],\n",
       " [2],\n",
       " [3],\n",
       " [4, 4, 4, 4],\n",
       " [5],\n",
       " [6],\n",
       " [7],\n",
       " [8, 8, 8, 8],\n",
       " [9],\n",
       " [10],\n",
       " [11],\n",
       " [12, 12, 12, 12],\n",
       " [13],\n",
       " [14],\n",
       " [15],\n",
       " [16, 16, 16, 16],\n",
       " [17],\n",
       " [18],\n",
       " [19],\n",
       " [20, 20, 20, 20],\n",
       " [21],\n",
       " [22],\n",
       " [23],\n",
       " [24, 24, 24, 24],\n",
       " [25],\n",
       " [26],\n",
       " [27],\n",
       " [28, 28, 28, 28],\n",
       " [29],\n",
       " [30],\n",
       " [31],\n",
       " [32, 32, 32, 32],\n",
       " [33],\n",
       " [34],\n",
       " [35],\n",
       " [36, 36, 36, 36],\n",
       " [37],\n",
       " [38],\n",
       " [39],\n",
       " [40, 40, 40, 40],\n",
       " [41],\n",
       " [42],\n",
       " [43],\n",
       " [44, 44, 44, 44],\n",
       " [45],\n",
       " [46],\n",
       " [47],\n",
       " [48, 48, 48, 48],\n",
       " [49],\n",
       " [50],\n",
       " [51],\n",
       " [52, 52, 52, 52],\n",
       " [53],\n",
       " [54],\n",
       " [55],\n",
       " [56, 56, 56, 56],\n",
       " [57],\n",
       " [58],\n",
       " [59],\n",
       " [60, 60, 60, 60],\n",
       " [61],\n",
       " [62],\n",
       " [63],\n",
       " [64, 64, 64, 64],\n",
       " [65],\n",
       " [66],\n",
       " [67],\n",
       " [68, 68, 68, 68],\n",
       " [69],\n",
       " [70],\n",
       " [71],\n",
       " [72, 72, 72, 72],\n",
       " [73],\n",
       " [74],\n",
       " [75],\n",
       " [76, 76, 76, 76],\n",
       " [77],\n",
       " [78],\n",
       " [79],\n",
       " [80, 80, 80, 80],\n",
       " [81],\n",
       " [82],\n",
       " [83],\n",
       " [84, 84, 84, 84],\n",
       " [85],\n",
       " [86],\n",
       " [87],\n",
       " [88, 88, 88, 88],\n",
       " [89],\n",
       " [90],\n",
       " [91]]"
      ]
     },
     "metadata": {},
     "execution_count": 39
    }
   ],
   "source": [
    "def CreateIndex(chords):\n",
    "    indexs_bar = list()\n",
    "    for i, bar in enumerate(chords):\n",
    "        index_bar = [i]*len(bar)\n",
    "        indexs_bar.append(index_bar)\n",
    "    return indexs_bar\n",
    "chords_index = CreateIndex(chords)\n",
    "chords_index"
   ]
  },
  {
   "cell_type": "code",
   "execution_count": 40,
   "metadata": {},
   "outputs": [],
   "source": [
    "def Raw2Basic(chord_raw):\n",
    "    root = chord_raw.split(':')[0]\n",
    "    func = chord_raw.split(':')[1].split('/')[0]\n",
    "    \n",
    "    if func[:3]=='maj':\n",
    "        func = 'maj'\n",
    "    elif func[:3]=='min':\n",
    "        func = 'min'\n",
    "    elif func[:3]=='sus':\n",
    "        func = func[:4]\n",
    "    elif func[0]=='1' or func[0]=='5':\n",
    "        func = '15'\n",
    "    \n",
    "    chord_basic = root+':'+func\n",
    "    return chord_basic\n",
    "\n",
    "def Raw2Root(chord_raw):\n",
    "    root = chord_raw.split(':')[0]\n",
    "    return root"
   ]
  },
  {
   "cell_type": "code",
   "execution_count": 184,
   "metadata": {},
   "outputs": [
    {
     "output_type": "stream",
     "name": "stdout",
     "text": [
      "Bb Ab\n"
     ]
    },
    {
     "output_type": "execute_result",
     "data": {
      "text/plain": [
       "'II:maj7'"
      ]
     },
     "metadata": {},
     "execution_count": 184
    }
   ],
   "source": [
    "def GetEnharmonic(note):\n",
    "    if note == 'Db':\n",
    "        return 'C#'\n",
    "    elif note == 'Eb':\n",
    "        return 'D#'\n",
    "    elif note == 'E#':\n",
    "        return 'F'\n",
    "    elif note == 'Fb':\n",
    "        return 'E'\n",
    "    elif note == 'Gb':\n",
    "        return 'F#'\n",
    "    elif note == 'Ab':\n",
    "        return 'G#'\n",
    "    elif note == 'Bb':\n",
    "        return 'A#'\n",
    "    elif note == 'B#':\n",
    "        return 'C'\n",
    "    elif note == 'Cb':\n",
    "        return 'B'\n",
    "    return note\n",
    "\n",
    "def Abs2RelRoot(chord_root, tonic):\n",
    "    print(chord_root, tonic)\n",
    "    chromatic = ['C', 'C#', 'D', 'D#', 'E', 'F', 'F#', 'G', 'G#', 'A', 'A#', 'B']\n",
    "    relative = ['I', 'I#', 'II', 'II#', 'III', 'IV', 'IV#', 'V', 'V#', 'VI', 'VI#', 'VII']\n",
    "\n",
    "    tonic = GetEnharmonic(tonic)\n",
    "    chord_root = GetEnharmonic(chord_root)\n",
    "\n",
    "    tonic_pos = chromatic.index(tonic)\n",
    "    chord_root_pos = chromatic.index(chord_root)\n",
    "\n",
    "    dist = chord_root_pos - tonic_pos\n",
    "    rel_chord_root = relative[dist]\n",
    "\n",
    "    return rel_chord_root\n",
    "\n",
    "def Abs2Rel(chord, tonic):\n",
    "    splitted = chord.split(':')\n",
    "    root = splitted[0]\n",
    "    func = ''\n",
    "    if len(splitted) > 1:\n",
    "        func = ':' + splitted[1]\n",
    "    rel_root = Abs2RelRoot(root, tonic)\n",
    "    rel_chord = rel_root + func\n",
    "\n",
    "    return rel_chord\n",
    "\n",
    "Abs2Rel('Bb:maj7', 'Ab')"
   ]
  },
  {
   "cell_type": "code",
   "execution_count": 185,
   "metadata": {},
   "outputs": [],
   "source": [
    "def Rel2InCRoot(root_rel, tonic='C'):\n",
    "    chromatic = ['C', 'C#', 'D', 'D#', 'E', 'F', 'F#', 'G', 'G#', 'A', 'A#', 'B']\n",
    "    relative = ['I', 'I#', 'II', 'II#', 'III', 'IV', 'IV#', 'V', 'V#', 'VI', 'VI#', 'VII']\n",
    "\n",
    "    chromatic = chromatic[chromatic.index(tonic):] + chromatic[:chromatic.index(tonic)]\n",
    "    root_inc = chromatic[relative.index(root_rel)]\n",
    "\n",
    "    return root_inc\n",
    "\n",
    "def Rel2InC(chord_rel, tonic='C'):\n",
    "    splitted = chord_rel.split(':')\n",
    "    root = splitted[0]\n",
    "    func = ''\n",
    "    if len(splitted) > 1:\n",
    "        func = ':' + splitted[1]\n",
    "    rel_root = Rel2InCRoot(root, tonic)\n",
    "    rel_chord = rel_root + func\n",
    "\n",
    "    return rel_chord"
   ]
  },
  {
   "cell_type": "code",
   "execution_count": 186,
   "metadata": {},
   "outputs": [
    {
     "output_type": "stream",
     "name": "stdout",
     "text": [
      "D G\nG G\nG G\nG G\nG G\nG G\nD G\nF G\nC G\nG G\nE G\nG G\nC G\nG G\nG G\nD G\nF G\nC G\nG G\nE G\nG G\nC G\nG G\nB G\nB G\nE G\nA G\nA G\nD G\nG G\nC G\nC G\nC G\nB G\nD G\nG G\nD G\nF G\nC G\nG G\nE G\nG G\nD G\nA G\nA G\nE G\nG G\nD G\nA G\nF# G\nA G\nD G\nA G\nC# G\nC# G\nF# G\nB G\nB G\nE G\nA G\nD G\nD G\nD G\nC# G\nD G\nD G\nA G\nA G\nF# G\nF G\nG G\nA G\nA G\nF# G\nF G\nG G\nA G\nA G\nF# G\nF G\nG G\nA G\nA G\nF# G\nF G\nG G\nA G\nD G\nG G\nG G\nG G\nG G\nG G\nD G\nF G\nC G\nG G\nE G\nG G\nC G\nG G\nG G\nD G\nF G\nC G\nG G\nE G\nG G\nC G\nG G\nB G\nB G\nE G\nA G\nA G\nD G\nG G\nC G\nC G\nC G\nB G\nD G\nG G\nD G\nF G\nC G\nG G\nE G\nG G\nD G\nA G\nA G\nE G\nG G\nD G\nA G\nF# G\nA G\nD G\nA G\nC# G\nC# G\nF# G\nB G\nB G\nE G\nA G\nD G\nD G\nD G\nC# G\nD G\nD G\nA G\nA G\nF# G\nF G\nG G\nA G\nA G\nF# G\nF G\nG G\nA G\nA G\nF# G\nF G\nG G\nA G\nA G\nF# G\nF G\nG G\nA G\nD G\nG G\nG G\nG G\nG G\nG G\nD G\nF G\nC G\nG G\nE G\nG G\nC G\nG G\nG G\nD G\nF G\nC G\nG G\nE G\nG G\nC G\nG G\nB G\nB G\nE G\nA G\nA G\nD G\nG G\nC G\nC G\nC G\nB G\nD G\nG G\nD G\nF G\nC G\nG G\nE G\nG G\nD G\nA G\nA G\nE G\nG G\nD G\nA G\nF# G\nA G\nD G\nA G\nC# G\nC# G\nF# G\nB G\nB G\nE G\nA G\nD G\nD G\nD G\nC# G\nD G\nD G\nA G\nA G\nF# G\nF G\nG G\nA G\nA G\nF# G\nF G\nG G\nA G\nA G\nF# G\nF G\nG G\nA G\nA G\nF# G\nF G\nG G\nA G\n"
     ]
    }
   ],
   "source": [
    "df_chords = pd.DataFrame()\n",
    "df_chords['bar'] = sum(chords_index, [])\n",
    "df_chords['chords'] = sum(chords, [])\n",
    "df_chords['chords_basic'] = df_chords['chords'].apply(Raw2Basic)\n",
    "df_chords['chords_root'] = df_chords['chords'].apply(Raw2Root)\n",
    "\n",
    "df_chords['chords_rel'] = df_chords['chords'].apply(Abs2Rel, tonic=tonic)\n",
    "df_chords['chords_basic_rel'] = df_chords['chords_basic'].apply(Abs2Rel, tonic=tonic)\n",
    "df_chords['chords_root_rel'] = df_chords['chords_root'].apply(Abs2Rel, tonic=tonic)\n",
    "\n",
    "df_chords['chords_inC'] = df_chords['chords_rel'].apply(Rel2InC)\n",
    "df_chords['chords_basic_inC'] = df_chords['chords_basic_rel'].apply(Rel2InC)\n",
    "df_chords['chords_root_inC'] = df_chords['chords_root_rel'].apply(Rel2InC)\n",
    "\n",
    "df_chords['meta'] = ['title: '+title, 'artist: '+artist, 'metre: '+metre, 'tonic: '+tonic] + [np.nan] * (len(df_chords)-4)"
   ]
  },
  {
   "cell_type": "code",
   "execution_count": 143,
   "metadata": {},
   "outputs": [
    {
     "output_type": "execute_result",
     "data": {
      "text/plain": [
       "array(['D:maj', 'G:maj', 'G:maj', 'G:maj', 'G:maj', 'G:maj', 'D:maj/3',\n",
       "       'F:maj', 'C:maj', 'G:maj', 'E:min', 'G:maj7', 'C:maj7', 'G:maj',\n",
       "       'G:maj', 'D:maj/3', 'F:maj', 'C:maj', 'G:maj', 'E:min', 'G:maj',\n",
       "       'C:maj', 'G:maj', 'B:sus4(b7,9)', 'B:7', 'E:min7', 'A:sus4(b7)',\n",
       "       'A:7', 'D:maj', 'G:maj', 'C:maj', 'C:maj7', 'C:maj6', 'B:min',\n",
       "       'D:maj/b7', 'G:maj', 'D:maj/3', 'F:maj', 'C:maj', 'G:maj', 'E:min',\n",
       "       'G:maj', 'D:maj7', 'A:maj', 'A:maj', 'E:maj/3', 'G:maj', 'D:maj',\n",
       "       'A:maj', 'F#:min', 'A:maj', 'D:maj', 'A:maj', 'C#:sus4(b7,9)',\n",
       "       'C#:7', 'F#:min7', 'B:sus4(b7)', 'B:7', 'E:maj', 'A:maj', 'D:maj7',\n",
       "       'D:maj6', 'D:maj6', 'C#:min7', 'D:maj13', 'D:maj13', 'A:maj',\n",
       "       'A:maj/b7', 'F#:min', 'F:maj', 'G:maj', 'A:maj', 'A:maj/b7',\n",
       "       'F#:min', 'F:maj', 'G:maj', 'A:maj', 'A:maj/b7', 'F#:min', 'F:maj',\n",
       "       'G:maj', 'A:maj', 'A:maj/b7', 'F#:min', 'F:maj', 'G:maj', 'A:maj'],\n",
       "      dtype=object)"
      ]
     },
     "metadata": {},
     "execution_count": 143
    }
   ],
   "source": [
    "np.array(df_chords['chords'])"
   ]
  },
  {
   "cell_type": "code",
   "execution_count": 115,
   "metadata": {},
   "outputs": [],
   "source": [
    "csvpath = '/'.join(filepath.split('/')[:-1]) + '/chords.csv'\n",
    "df_chords.to_csv(csvpath)"
   ]
  },
  {
   "cell_type": "code",
   "execution_count": 158,
   "metadata": {},
   "outputs": [
    {
     "output_type": "stream",
     "name": "stdout",
     "text": [
      "\n"
     ]
    }
   ],
   "source": [
    "print(tonic)"
   ]
  },
  {
   "cell_type": "code",
   "execution_count": null,
   "metadata": {},
   "outputs": [],
   "source": []
  }
 ]
}