{
 "metadata": {
  "language_info": {
   "codemirror_mode": {
    "name": "ipython",
    "version": 3
   },
   "file_extension": ".py",
   "mimetype": "text/x-python",
   "name": "python",
   "nbconvert_exporter": "python",
   "pygments_lexer": "ipython3",
   "version": "3.8.8"
  },
  "orig_nbformat": 2,
  "kernelspec": {
   "name": "python388jvsc74a57bd0f824cfdc8576e0c71a79036f5a9dca3e4794fd69fea77a77382ff3f6ba87877b",
   "display_name": "Python 3.8.8 64-bit ('billboard': conda)"
  },
  "metadata": {
   "interpreter": {
    "hash": "f824cfdc8576e0c71a79036f5a9dca3e4794fd69fea77a77382ff3f6ba87877b"
   }
  }
 },
 "nbformat": 4,
 "nbformat_minor": 2,
 "cells": [
  {
   "cell_type": "code",
   "execution_count": 1,
   "metadata": {},
   "outputs": [],
   "source": [
    "import numpy as np\n",
    "import pandas as pd\n",
    "import glob\n",
    "import re"
   ]
  },
  {
   "cell_type": "code",
   "execution_count": 2,
   "metadata": {},
   "outputs": [],
   "source": [
    "datadir = \"../data/McGill-Billboard/\"\n",
    "# filepaths = glob.glob(datadir+'[0-9][0-9][0-9][0-9]/salami_chords.txt')\n",
    "filepaths = glob.glob(datadir+'1256/salami_chords.txt')"
   ]
  },
  {
   "cell_type": "code",
   "execution_count": 3,
   "metadata": {},
   "outputs": [],
   "source": [
    "fileidx = 0\n",
    "filepath = filepaths[fileidx]\n",
    "\n",
    "def ExtractFile(filepath):\n",
    "    f = open(filepath, 'r')\n",
    "    raw = f.readlines()\n",
    "    f.close\n",
    "    return raw\n",
    "\n",
    "def ExtractMeta(raw):\n",
    "    title = re.split('# title: |\\n', raw[0])[1]\n",
    "    artist = re.split('# artist: |\\n', raw[1])[1]\n",
    "    metre = re.split('# metre: |\\n', raw[2])[1]\n",
    "    tonic = re.split('# tonic: |\\n', raw[3])[1]\n",
    "\n",
    "    return (title, artist, metre, tonic)\n",
    "\n",
    "raw = ExtractFile(filepath)\n",
    "(title, artist, metre, tonic) = ExtractMeta(raw)"
   ]
  },
  {
   "cell_type": "code",
   "execution_count": 4,
   "metadata": {},
   "outputs": [],
   "source": [
    "nonmeta = raw[6:-2]\n",
    "\n",
    "def ExtractPhrases(raw):\n",
    "    raw = raw[6:-2]\n",
    "    phrases = list()\n",
    "    for row in raw:\n",
    "        splitted = re.split('\\t', row)[1:][0]\n",
    "        splitted = re.split('\\|', splitted)[1:]\n",
    "        \n",
    "        if not splitted: continue\n",
    "        \n",
    "        phrase = splitted[:-1]\n",
    "\n",
    "        # check for repeat\n",
    "        if IsRepeat(splitted[-1][1:3]):\n",
    "            phrase.append(splitted[-1][1:3])\n",
    "\n",
    "        phrases.append(phrase)\n",
    "    return phrases\n",
    "\n",
    "def CleanPhrases(phrases):\n",
    "    phrases_clean = list()\n",
    "    for phrase in phrases:\n",
    "        phrase_clean = [chord.strip() for chord in phrase]\n",
    "        phrases_clean.append(phrase_clean)\n",
    "    return phrases_clean\n",
    "    \n",
    "def FormatChords(phrases_clean):\n",
    "    chords = list()\n",
    "    \n",
    "    for phrase in phrases_clean:\n",
    "        # clean non-chords\n",
    "        phrase_chord = [RemoveNoise(chord) for chord in phrase]\n",
    "        \n",
    "        # remove blank (noise-only) lines\n",
    "        if all([not p for p in phrase_chord]): continue\n",
    "\n",
    "        # check for repeat\n",
    "        if IsRepeat(phrase_chord[-1]):\n",
    "            repeated = phrase_chord[:-1]\n",
    "            n_repeat = int(phrase_chord[-1][-1])\n",
    "            phrase_chord = repeated*n_repeat\n",
    "\n",
    "        chords.append(phrase_chord)\n",
    "    # flatten 2d list\n",
    "    chords = sum(chords, [])\n",
    "\n",
    "    # split chords into bars\n",
    "    chords = [chord.split() for chord in chords]\n",
    "\n",
    "    return chords\n",
    "\n",
    "def IsRepeat(str):\n",
    "    if re.match(r'x\\d', str):\n",
    "        return True\n",
    "    else:\n",
    "        return False\n",
    "\n",
    "def RemoveNoise(chord):\n",
    "    chord_clean = re.sub(r'\\.|\\*|\\(\\d+/\\d+\\)|N', '', chord)\n",
    "    chord_clean = chord_clean.split()\n",
    "    chord_clean = ' '.join(chord_clean)\n",
    "    return chord_clean\n",
    "\n",
    "phrases = ExtractPhrases(raw)\n",
    "phrases_clean = CleanPhrases(phrases)\n",
    "chords = FormatChords(phrases_clean)"
   ]
  },
  {
   "cell_type": "code",
   "execution_count": 5,
   "metadata": {},
   "outputs": [],
   "source": [
    "def CreateIndex(chords):\n",
    "    indexs_bar = list()\n",
    "    for i, bar in enumerate(chords):\n",
    "        index_bar = [i]*len(bar)\n",
    "        indexs_bar.append(index_bar)\n",
    "    return indexs_bar\n",
    "chords_index = CreateIndex(chords)"
   ]
  },
  {
   "cell_type": "code",
   "execution_count": 25,
   "metadata": {},
   "outputs": [],
   "source": [
    "def Raw2Basic(chord_raw):\n",
    "    root = chord_raw.split(':')[0]\n",
    "    func = chord_raw.split(':')[1].split('/')[0]\n",
    "    \n",
    "    if func[:3]=='maj':\n",
    "        func = 'maj'\n",
    "    elif func[:3]=='min':\n",
    "        func = 'min'\n",
    "    elif func[:3]=='sus':\n",
    "        func = func[:4]\n",
    "    elif func[0]=='1' or func[0]=='5':\n",
    "        func = '15'\n",
    "    \n",
    "    chord_basic = root+':'+func\n",
    "    return chord_basic\n",
    "\n",
    "def Raw2Root(chord_raw):\n",
    "    root = chord_raw.split(':')[0]\n",
    "    return Raw2Root"
   ]
  },
  {
   "cell_type": "code",
   "execution_count": 6,
   "metadata": {},
   "outputs": [
    {
     "output_type": "execute_result",
     "data": {
      "text/plain": [
       "    bar  chords\n",
       "10   10  C:min7\n",
       "11   11   C:min\n",
       "12   12  Bb:5/9\n",
       "13   13  Bb:5/9\n",
       "14   13     C:5\n",
       "15   14  Bb:5/9\n",
       "16   15  Bb:5/9\n",
       "17   15     C:5\n",
       "18   16   C:maj\n",
       "19   17   C:maj\n",
       "20   18   C:maj\n",
       "21   19   C:maj\n",
       "22   20   C:maj\n",
       "23   21   C:maj\n",
       "24   22   C:maj\n",
       "25   23  C:sus4\n",
       "26   24  C:sus4\n",
       "27   25  C:sus4\n",
       "28   26  F:min7\n",
       "29   27  F:min7"
      ],
      "text/html": "<div>\n<style scoped>\n    .dataframe tbody tr th:only-of-type {\n        vertical-align: middle;\n    }\n\n    .dataframe tbody tr th {\n        vertical-align: top;\n    }\n\n    .dataframe thead th {\n        text-align: right;\n    }\n</style>\n<table border=\"1\" class=\"dataframe\">\n  <thead>\n    <tr style=\"text-align: right;\">\n      <th></th>\n      <th>bar</th>\n      <th>chords</th>\n    </tr>\n  </thead>\n  <tbody>\n    <tr>\n      <th>10</th>\n      <td>10</td>\n      <td>C:min7</td>\n    </tr>\n    <tr>\n      <th>11</th>\n      <td>11</td>\n      <td>C:min</td>\n    </tr>\n    <tr>\n      <th>12</th>\n      <td>12</td>\n      <td>Bb:5/9</td>\n    </tr>\n    <tr>\n      <th>13</th>\n      <td>13</td>\n      <td>Bb:5/9</td>\n    </tr>\n    <tr>\n      <th>14</th>\n      <td>13</td>\n      <td>C:5</td>\n    </tr>\n    <tr>\n      <th>15</th>\n      <td>14</td>\n      <td>Bb:5/9</td>\n    </tr>\n    <tr>\n      <th>16</th>\n      <td>15</td>\n      <td>Bb:5/9</td>\n    </tr>\n    <tr>\n      <th>17</th>\n      <td>15</td>\n      <td>C:5</td>\n    </tr>\n    <tr>\n      <th>18</th>\n      <td>16</td>\n      <td>C:maj</td>\n    </tr>\n    <tr>\n      <th>19</th>\n      <td>17</td>\n      <td>C:maj</td>\n    </tr>\n    <tr>\n      <th>20</th>\n      <td>18</td>\n      <td>C:maj</td>\n    </tr>\n    <tr>\n      <th>21</th>\n      <td>19</td>\n      <td>C:maj</td>\n    </tr>\n    <tr>\n      <th>22</th>\n      <td>20</td>\n      <td>C:maj</td>\n    </tr>\n    <tr>\n      <th>23</th>\n      <td>21</td>\n      <td>C:maj</td>\n    </tr>\n    <tr>\n      <th>24</th>\n      <td>22</td>\n      <td>C:maj</td>\n    </tr>\n    <tr>\n      <th>25</th>\n      <td>23</td>\n      <td>C:sus4</td>\n    </tr>\n    <tr>\n      <th>26</th>\n      <td>24</td>\n      <td>C:sus4</td>\n    </tr>\n    <tr>\n      <th>27</th>\n      <td>25</td>\n      <td>C:sus4</td>\n    </tr>\n    <tr>\n      <th>28</th>\n      <td>26</td>\n      <td>F:min7</td>\n    </tr>\n    <tr>\n      <th>29</th>\n      <td>27</td>\n      <td>F:min7</td>\n    </tr>\n  </tbody>\n</table>\n</div>"
     },
     "metadata": {},
     "execution_count": 6
    }
   ],
   "source": [
    "df_chords = pd.DataFrame()\n",
    "df_chords['bar'] = sum(chords_index, [])\n",
    "df_chords['chords'] = sum(chords, [])\n",
    "df_chords['chords_basic'] = df_chords['chords'].apply(Raw2Basic)\n",
    "df_chords['chords_root'] = df_chords['chords'].apply(Raw2Root)\n",
    "df_chords.iloc[10:30]"
   ]
  },
  {
   "cell_type": "code",
   "execution_count": 26,
   "metadata": {},
   "outputs": [
    {
     "output_type": "execute_result",
     "data": {
      "text/plain": [
       "0        C:15\n",
       "1        C:15\n",
       "2        C:15\n",
       "3        C:15\n",
       "4       C:min\n",
       "        ...  \n",
       "302    G:sus4\n",
       "303    G:sus4\n",
       "304    G:sus4\n",
       "305    Bb:maj\n",
       "306     C:maj\n",
       "Name: chords, Length: 307, dtype: object"
      ]
     },
     "metadata": {},
     "execution_count": 26
    }
   ],
   "source": [
    "df_chords['chords'].apply(Raw2Basic)"
   ]
  },
  {
   "cell_type": "code",
   "execution_count": null,
   "metadata": {},
   "outputs": [],
   "source": []
  }
 ]
}